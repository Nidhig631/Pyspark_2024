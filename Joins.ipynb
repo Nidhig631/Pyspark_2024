{
 "cells": [
  {
   "cell_type": "code",
   "execution_count": 1,
   "metadata": {},
   "outputs": [],
   "source": [
    "import pyspark\n",
    "from pyspark.sql import *\n",
    "from pyspark.sql.functions import col,lit\n",
    "from pyspark import SQLContext\n",
    "from pyspark.sql import SparkSession\n",
    "spark = SparkSession.builder.config(\"spark.driver.host\", \"localhost\").appName(\"SparkByExamples.com\").getOrCreate()\n",
    "conf = pyspark.SparkConf()\n",
    "spark_context = SparkSession.builder.config(conf=conf).getOrCreate()\n"
   ]
  },
  {
   "cell_type": "code",
   "execution_count": 4,
   "metadata": {},
   "outputs": [],
   "source": [
    "#dataframe 1\n",
    "data = [[\"1\", \"sravan\", \"company 1\"],\n",
    "[\"2\", \"ojaswi\", \"company 1\"],\n",
    "[\"3\", \"rohith\", \"company 2\"],\n",
    "[\"4\", \"sridevi\", \"company 1\"],\n",
    "[\"5\", \"bobby\", \"company 1\"]]\n",
    "columns = ['ID', 'NAME', 'Company']\n",
    "dataframe = spark.createDataFrame(data, columns)\n",
    "\n",
    "#dataframe 2\n",
    "data1 = [[\"1\", \"45000\", \"IT\"],\n",
    "[\"2\", \"145000\", \"Manager\"],\n",
    "[\"6\", \"45000\", \"HR\"],\n",
    "[\"5\", \"34000\", \"Sales\"]]\n",
    "columns = ['ID', 'salary', 'department']\n",
    "dataframe1 = spark.createDataFrame(data1, columns)"
   ]
  },
  {
   "cell_type": "code",
   "execution_count": 8,
   "metadata": {},
   "outputs": [
    {
     "name": "stdout",
     "output_type": "stream",
     "text": [
      "+---+-------+---------+\n",
      "| ID|   NAME|  Company|\n",
      "+---+-------+---------+\n",
      "|  1| sravan|company 1|\n",
      "|  2| ojaswi|company 1|\n",
      "|  3| rohith|company 2|\n",
      "|  4|sridevi|company 1|\n",
      "|  5|  bobby|company 1|\n",
      "+---+-------+---------+\n",
      "\n",
      "+---+------+----------+\n",
      "| ID|salary|department|\n",
      "+---+------+----------+\n",
      "|  1| 45000|        IT|\n",
      "|  2|145000|   Manager|\n",
      "|  6| 45000|        HR|\n",
      "|  5| 34000|     Sales|\n",
      "+---+------+----------+\n",
      "\n"
     ]
    }
   ],
   "source": [
    "dataframe.show()\n",
    "dataframe1.show()"
   ]
  },
  {
   "cell_type": "code",
   "execution_count": 7,
   "metadata": {},
   "outputs": [
    {
     "name": "stdout",
     "output_type": "stream",
     "text": [
      "+---+------+---------+---+------+----------+\n",
      "| ID|  NAME|  Company| ID|salary|department|\n",
      "+---+------+---------+---+------+----------+\n",
      "|  1|sravan|company 1|  1| 45000|        IT|\n",
      "|  2|ojaswi|company 1|  2|145000|   Manager|\n",
      "|  5| bobby|company 1|  5| 34000|     Sales|\n",
      "+---+------+---------+---+------+----------+\n",
      "\n"
     ]
    }
   ],
   "source": [
    "dataframe.join(dataframe1,dataframe.ID==dataframe1.ID,\"inner\").show()"
   ]
  },
  {
   "cell_type": "markdown",
   "metadata": {},
   "source": [
    "outer: dataframe1.join(dataframe2,dataframe1.column_name == dataframe2.column_name,”outer”)\n",
    "\n",
    "\n",
    "full: dataframe1.join(dataframe2,dataframe1.column_name == dataframe2.column_name,”full”)\n",
    "\n",
    "\n",
    "fullouter: dataframe1.join(dataframe2,dataframe1.column_name ==\n",
    "dataframe2.column_name,”fullouter”)\n"
   ]
  },
  {
   "cell_type": "code",
   "execution_count": 9,
   "metadata": {},
   "outputs": [],
   "source": [
    "data = [[\"1\", \"Nitya\", \"company 1\"],\n",
    "[\"2\", \"Ramesh\", \"company 1\"],\n",
    "[\"3\", \"Abhishek\", \"company 2\"],\n",
    "[\"4\", \"Sandeep\", \"company 1\"],\n",
    "[\"5\", \"Manisha\", \"company 1\"]]\n",
    "columns = ['ID', 'NAME', 'Company']\n",
    "dataframe = spark.createDataFrame(data, columns)\n",
    "data1 = [[\"1\", \"45000\", \"IT\"],\n",
    "[\"2\", \"145000\", \"Manager\"],\n",
    "[\"6\", \"45000\", \"HR\"],\n",
    "[\"5\", \"34000\", \"Sales\"]]\n",
    "columns = ['ID', 'salary', 'department']\n",
    "dataframe1 = spark.createDataFrame(data1, columns)\n"
   ]
  },
  {
   "cell_type": "code",
   "execution_count": 11,
   "metadata": {},
   "outputs": [
    {
     "name": "stdout",
     "output_type": "stream",
     "text": [
      "+----+--------+---------+----+------+----------+\n",
      "|  ID|    NAME|  Company|  ID|salary|department|\n",
      "+----+--------+---------+----+------+----------+\n",
      "|   1|   Nitya|company 1|   1| 45000|        IT|\n",
      "|   2|  Ramesh|company 1|   2|145000|   Manager|\n",
      "|   3|Abhishek|company 2|null|  null|      null|\n",
      "|   4| Sandeep|company 1|null|  null|      null|\n",
      "|   5| Manisha|company 1|   5| 34000|     Sales|\n",
      "|null|    null|     null|   6| 45000|        HR|\n",
      "+----+--------+---------+----+------+----------+\n",
      "\n"
     ]
    }
   ],
   "source": [
    "dataframe.join(dataframe1, dataframe.ID == dataframe1.ID,\"full\").show()"
   ]
  },
  {
   "cell_type": "code",
   "execution_count": 14,
   "metadata": {},
   "outputs": [
    {
     "name": "stdout",
     "output_type": "stream",
     "text": [
      "+---+--------+---------+\n",
      "| ID|    NAME|  Company|\n",
      "+---+--------+---------+\n",
      "|  1|    Amit|company 1|\n",
      "|  2|  Rakesh|company 1|\n",
      "|  3|Abhishek|company 2|\n",
      "|  4|     Sri|company 1|\n",
      "|  5|  Sachin|company 1|\n",
      "+---+--------+---------+\n",
      "\n",
      "+---+------+----------+\n",
      "| ID|salary|department|\n",
      "+---+------+----------+\n",
      "|  1| 45000|        IT|\n",
      "|  2|145000|   Manager|\n",
      "|  6| 45000|        HR|\n",
      "|  5| 34000|     Sales|\n",
      "+---+------+----------+\n",
      "\n"
     ]
    }
   ],
   "source": [
    "data = [[\"1\", \"Amit\", \"company 1\"],\n",
    "[\"2\", \"Rakesh\", \"company 1\"],\n",
    "[\"3\", \"Abhishek\", \"company 2\"],\n",
    "[\"4\", \"Sri\", \"company 1\"],\n",
    "[\"5\", \"Sachin\", \"company 1\"]]\n",
    "columns = ['ID', 'NAME', 'Company']\n",
    "dataframe = spark.createDataFrame(data, columns)\n",
    "dataframe.show()\n",
    "data1 = [[\"1\", \"45000\", \"IT\"],\n",
    "[\"2\", \"145000\", \"Manager\"],\n",
    "[\"6\", \"45000\", \"HR\"],\n",
    "[\"5\", \"34000\", \"Sales\"]]\n",
    "columns = ['ID', 'salary', 'department']\n",
    "dataframe1 = spark.createDataFrame(data1, columns)\n",
    "dataframe1.show()\n",
    "\n"
   ]
  },
  {
   "cell_type": "code",
   "execution_count": 15,
   "metadata": {},
   "outputs": [
    {
     "name": "stdout",
     "output_type": "stream",
     "text": [
      "+---+--------+---------+----+------+----------+\n",
      "| ID|    NAME|  Company|  ID|salary|department|\n",
      "+---+--------+---------+----+------+----------+\n",
      "|  1|    Amit|company 1|   1| 45000|        IT|\n",
      "|  2|  Rakesh|company 1|   2|145000|   Manager|\n",
      "|  3|Abhishek|company 2|null|  null|      null|\n",
      "|  4|     Sri|company 1|null|  null|      null|\n",
      "|  5|  Sachin|company 1|   5| 34000|     Sales|\n",
      "+---+--------+---------+----+------+----------+\n",
      "\n"
     ]
    }
   ],
   "source": [
    "dataframe.join(dataframe1,dataframe.ID == dataframe1.ID,\"left\").show()"
   ]
  },
  {
   "cell_type": "code",
   "execution_count": 16,
   "metadata": {},
   "outputs": [
    {
     "name": "stdout",
     "output_type": "stream",
     "text": [
      "+----+------+---------+---+------+----------+\n",
      "|  ID|  NAME|  Company| ID|salary|department|\n",
      "+----+------+---------+---+------+----------+\n",
      "|   1|  Amit|company 1|  1| 45000|        IT|\n",
      "|   2|Rakesh|company 1|  2|145000|   Manager|\n",
      "|null|  null|     null|  6| 45000|        HR|\n",
      "|   5|Sachin|company 1|  5| 34000|     Sales|\n",
      "+----+------+---------+---+------+----------+\n",
      "\n"
     ]
    }
   ],
   "source": [
    "dataframe.join(dataframe1,dataframe.ID == dataframe1.ID,\"right\").show()"
   ]
  },
  {
   "cell_type": "markdown",
   "metadata": {},
   "source": [
    "# LEFTSEMI JOIN"
   ]
  },
  {
   "cell_type": "markdown",
   "metadata": {},
   "source": [
    "This join will all rows from the first dataframe and return only matched rows from the second\n",
    "dataframe"
   ]
  },
  {
   "cell_type": "code",
   "execution_count": 18,
   "metadata": {},
   "outputs": [
    {
     "name": "stdout",
     "output_type": "stream",
     "text": [
      "+---+--------+---------+\n",
      "| ID|    NAME|  Company|\n",
      "+---+--------+---------+\n",
      "|  1|Mitchell|company 1|\n",
      "|  2|  Rachin|company 1|\n",
      "|  3| Kuldeep|company 2|\n",
      "|  4|   Rahul|company 1|\n",
      "|  5|  Thomas|company 1|\n",
      "+---+--------+---------+\n",
      "\n",
      "+---+------+----------+\n",
      "| ID|salary|department|\n",
      "+---+------+----------+\n",
      "|  1| 45000|        IT|\n",
      "|  2|145000|   Manager|\n",
      "|  6| 45000|        HR|\n",
      "|  5| 34000|     Sales|\n",
      "+---+------+----------+\n",
      "\n"
     ]
    }
   ],
   "source": [
    "data = [[\"1\", \"Mitchell\", \"company 1\"],\n",
    "[\"2\", \"Rachin\", \"company 1\"],\n",
    "[\"3\", \"Kuldeep\", \"company 2\"],\n",
    "[\"4\", \"Rahul\", \"company 1\"],\n",
    "[\"5\", \"Thomas\", \"company 1\"]]\n",
    "columns = ['ID', 'NAME', 'Company']\n",
    "dataframe = spark.createDataFrame(data, columns)\n",
    "dataframe.show()\n",
    "data1 = [[\"1\", \"45000\", \"IT\"],\n",
    "[\"2\", \"145000\", \"Manager\"],\n",
    "[\"6\", \"45000\", \"HR\"],\n",
    "[\"5\", \"34000\", \"Sales\"]]\n",
    "columns = ['ID', 'salary', 'department']\n",
    "dataframe1 = spark.createDataFrame(data1, columns)\n",
    "dataframe1.show()"
   ]
  },
  {
   "cell_type": "code",
   "execution_count": 19,
   "metadata": {},
   "outputs": [
    {
     "name": "stdout",
     "output_type": "stream",
     "text": [
      "+---+--------+---------+\n",
      "| ID|    NAME|  Company|\n",
      "+---+--------+---------+\n",
      "|  1|Mitchell|company 1|\n",
      "|  2|  Rachin|company 1|\n",
      "|  5|  Thomas|company 1|\n",
      "+---+--------+---------+\n",
      "\n"
     ]
    }
   ],
   "source": [
    "# data from left table only but the matched records from both the tables.\n",
    "dataframe.join(dataframe1,dataframe.ID == dataframe1.ID,\"leftsemi\").show()"
   ]
  },
  {
   "cell_type": "code",
   "execution_count": 20,
   "metadata": {},
   "outputs": [
    {
     "name": "stdout",
     "output_type": "stream",
     "text": [
      "+---+-------+---------+\n",
      "| ID|   NAME|  Company|\n",
      "+---+-------+---------+\n",
      "|  3|Kuldeep|company 2|\n",
      "|  4|  Rahul|company 1|\n",
      "+---+-------+---------+\n",
      "\n"
     ]
    }
   ],
   "source": [
    "# data from left table only but the non-matched records from both the tables.\n",
    "dataframe.join(dataframe1,dataframe.ID == dataframe1.ID,\"leftanti\").show()"
   ]
  },
  {
   "cell_type": "code",
   "execution_count": null,
   "metadata": {},
   "outputs": [],
   "source": []
  }
 ],
 "metadata": {
  "kernelspec": {
   "display_name": "base",
   "language": "python",
   "name": "python3"
  },
  "language_info": {
   "codemirror_mode": {
    "name": "ipython",
    "version": 3
   },
   "file_extension": ".py",
   "mimetype": "text/x-python",
   "name": "python",
   "nbconvert_exporter": "python",
   "pygments_lexer": "ipython3",
   "version": "3.11.5"
  }
 },
 "nbformat": 4,
 "nbformat_minor": 2
}
