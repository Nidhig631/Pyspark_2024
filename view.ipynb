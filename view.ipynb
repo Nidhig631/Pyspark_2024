{
 "cells": [
  {
   "cell_type": "code",
   "execution_count": 1,
   "metadata": {},
   "outputs": [],
   "source": [
    "import pyspark\n",
    "from pyspark.sql import *\n",
    "from pyspark.sql.functions import col,lit\n",
    "from pyspark import SQLContext\n",
    "from pyspark.sql import SparkSession\n",
    "spark = SparkSession.builder.config(\"spark.driver.host\", \"localhost\").appName(\"SparkByExamples.com\").getOrCreate()\n",
    "conf = pyspark.SparkConf()\n",
    "spark_context = SparkSession.builder.config(conf=conf).getOrCreate()"
   ]
  },
  {
   "cell_type": "code",
   "execution_count": 2,
   "metadata": {},
   "outputs": [],
   "source": [
    "data = [[\"1\", \"Manoj\", \"company 1\"],\n",
    "[\"2\", \"Manisha\", \"company 1\"],\n",
    "[\"3\", \"RAmisha\", \"company 2\"],\n",
    "[\"4\", \"Sri\", \"company 1\"],\n",
    "[\"5\", \"RAkesh\", \"company 1\"]]\n",
    "columns = ['ID', 'NAME', 'Company']\n",
    "dataframe = spark.createDataFrame(data, columns)\n",
    "data1 = [[\"1\", \"45000\", \"IT\"],\n",
    "[\"2\", \"145000\", \"Manager\"],\n",
    "[\"6\", \"45000\", \"HR\"],\n",
    "[\"5\", \"34000\", \"Sales\"]]\n",
    "columns = ['ID', 'salary', 'department']\n",
    "# creating a dataframe from the lists of data\n",
    "dataframe1 = spark.createDataFrame(data1, columns)\n",
    "# create a view for dataframe named student\n",
    "dataframe.createOrReplaceTempView(\"student\")\n",
    "# create a view for dataframe1 named department\n",
    "dataframe1.createOrReplaceTempView(\"department\")\n"
   ]
  },
  {
   "cell_type": "code",
   "execution_count": 4,
   "metadata": {},
   "outputs": [
    {
     "name": "stdout",
     "output_type": "stream",
     "text": [
      "+---+-------+---------+---+------+----------+\n",
      "| ID|   NAME|  Company| ID|salary|department|\n",
      "+---+-------+---------+---+------+----------+\n",
      "|  1|  Manoj|company 1|  1| 45000|        IT|\n",
      "|  2|Manisha|company 1|  2|145000|   Manager|\n",
      "|  5| RAkesh|company 1|  5| 34000|     Sales|\n",
      "+---+-------+---------+---+------+----------+\n",
      "\n"
     ]
    }
   ],
   "source": [
    "#use sql expression to select ID column\n",
    "spark.sql(\"select * from student, department where student.ID == department.ID\").show()\n"
   ]
  }
 ],
 "metadata": {
  "kernelspec": {
   "display_name": "base",
   "language": "python",
   "name": "python3"
  },
  "language_info": {
   "codemirror_mode": {
    "name": "ipython",
    "version": 3
   },
   "file_extension": ".py",
   "mimetype": "text/x-python",
   "name": "python",
   "nbconvert_exporter": "python",
   "pygments_lexer": "ipython3",
   "version": "3.11.5"
  }
 },
 "nbformat": 4,
 "nbformat_minor": 2
}
