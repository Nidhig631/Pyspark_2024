{
 "cells": [
  {
   "cell_type": "code",
   "execution_count": 1,
   "metadata": {},
   "outputs": [],
   "source": [
    "import pyspark\n",
    "from pyspark.sql import *\n",
    "from pyspark.sql.functions import col,lit,explode,flatten,concat_ws\n",
    "from pyspark import SQLContext\n",
    "from pyspark.sql import SparkSession\n",
    "spark = SparkSession.builder.config(\"spark.driver.host\", \"localhost\").appName(\"SparkByExamples.com\").getOrCreate()\n",
    "conf = pyspark.SparkConf()\n",
    "spark_context = SparkSession.builder.config(conf=conf).getOrCreate()\n"
   ]
  },
  {
   "cell_type": "code",
   "execution_count": 2,
   "metadata": {},
   "outputs": [
    {
     "name": "stdout",
     "output_type": "stream",
     "text": [
      "+---+--------+--------+\n",
      "| id|    name|   marks|\n",
      "+---+--------+--------+\n",
      "|  1|Abhishek|10|30|40|\n",
      "|  2| Krishna|50|40|70|\n",
      "|  3|  rakesh|20|70|90|\n",
      "+---+--------+--------+\n",
      "\n"
     ]
    }
   ],
   "source": [
    "data = [(1, \"Abhishek\", \"10|30|40\"),\n",
    "(2, \"Krishna\", \"50|40|70\"),\n",
    "(3, \"rakesh\", \"20|70|90\")]\n",
    "df = spark.createDataFrame(data, schema=[\"id\", \"name\", \"marks\"])\n",
    "df.show()\n"
   ]
  },
  {
   "cell_type": "code",
   "execution_count": 3,
   "metadata": {},
   "outputs": [],
   "source": [
    "from pyspark.sql.functions import split, col"
   ]
  },
  {
   "cell_type": "code",
   "execution_count": 5,
   "metadata": {},
   "outputs": [],
   "source": [
    "df_s = df.withColumn(\"mark_details\",split(col('marks'),\"[|]\"))\\\n",
    ".withColumn(\"maths\",col('mark_details')[0])\\\n",
    ".withColumn(\"physics\",col('mark_details')[1])\\\n",
    ".withColumn(\"chemistry\",col('mark_details')[2])"
   ]
  },
  {
   "cell_type": "code",
   "execution_count": 6,
   "metadata": {},
   "outputs": [
    {
     "name": "stdout",
     "output_type": "stream",
     "text": [
      "+---+--------+--------+------------+-----+-------+---------+\n",
      "| id|    name|   marks|mark_details|maths|physics|chemistry|\n",
      "+---+--------+--------+------------+-----+-------+---------+\n",
      "|  1|Abhishek|10|30|40|[10, 30, 40]|   10|     30|       40|\n",
      "|  2| Krishna|50|40|70|[50, 40, 70]|   50|     40|       70|\n",
      "|  3|  rakesh|20|70|90|[20, 70, 90]|   20|     70|       90|\n",
      "+---+--------+--------+------------+-----+-------+---------+\n",
      "\n"
     ]
    }
   ],
   "source": [
    "df_s.show()"
   ]
  }
 ],
 "metadata": {
  "kernelspec": {
   "display_name": "base",
   "language": "python",
   "name": "python3"
  },
  "language_info": {
   "codemirror_mode": {
    "name": "ipython",
    "version": 3
   },
   "file_extension": ".py",
   "mimetype": "text/x-python",
   "name": "python",
   "nbconvert_exporter": "python",
   "pygments_lexer": "ipython3",
   "version": "3.11.5"
  }
 },
 "nbformat": 4,
 "nbformat_minor": 2
}
