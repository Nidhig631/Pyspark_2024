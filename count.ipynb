{
 "cells": [
  {
   "cell_type": "code",
   "execution_count": 1,
   "metadata": {},
   "outputs": [],
   "source": [
    "import pyspark\n",
    "from pyspark.sql import *\n",
    "from pyspark.sql.functions import col,lit,explode,flatten,concat_ws\n",
    "from pyspark import SQLContext\n",
    "from pyspark.sql import SparkSession\n",
    "spark = SparkSession.builder.config(\"spark.driver.host\", \"localhost\").appName(\"SparkByExamples.com\").getOrCreate()\n",
    "conf = pyspark.SparkConf()\n",
    "spark_context = SparkSession.builder.config(conf=conf).getOrCreate()\n"
   ]
  },
  {
   "cell_type": "code",
   "execution_count": 2,
   "metadata": {},
   "outputs": [
    {
     "name": "stdout",
     "output_type": "stream",
     "text": [
      "+---+-------+-------+\n",
      "| ID|   NAME|college|\n",
      "+---+-------+-------+\n",
      "|  1|  Nitya| vignan|\n",
      "|  2| Nitesh|   vvit|\n",
      "|  3|   Neha|   vvit|\n",
      "|  4| Neerak| vignan|\n",
      "|  1|Neekung| vignan|\n",
      "|  5| Neelam|    iit|\n",
      "+---+-------+-------+\n",
      "\n"
     ]
    }
   ],
   "source": [
    "data =[[\"1\",\"Nitya\",\"vignan\"],\n",
    "[\"2\",\"Nitesh\",\"vvit\"],\n",
    "[\"3\",\"Neha\",\"vvit\"],\n",
    "[\"4\",\"Neerak\",\"vignan\"],\n",
    "[\"1\",\"Neekung\",\"vignan\"],\n",
    "[\"5\",\"Neelam\",\"iit\"]]\n",
    "columns = ['ID','NAME','college']\n",
    "dataframe = spark.createDataFrame(data,columns)\n",
    "dataframe.show()\n"
   ]
  },
  {
   "cell_type": "code",
   "execution_count": 3,
   "metadata": {},
   "outputs": [
    {
     "data": {
      "text/plain": [
       "6"
      ]
     },
     "execution_count": 3,
     "metadata": {},
     "output_type": "execute_result"
    }
   ],
   "source": [
    "dataframe.count()"
   ]
  },
  {
   "cell_type": "code",
   "execution_count": 4,
   "metadata": {},
   "outputs": [
    {
     "name": "stdout",
     "output_type": "stream",
     "text": [
      "4\n",
      "3\n",
      "3\n"
     ]
    }
   ],
   "source": [
    "print(dataframe.where(dataframe.ID != '1').count())\n",
    "print(dataframe.where(dataframe.college == 'vignan').count())\n",
    "print(dataframe.where(dataframe.ID > 2).count())"
   ]
  },
  {
   "cell_type": "code",
   "execution_count": 6,
   "metadata": {},
   "outputs": [
    {
     "name": "stdout",
     "output_type": "stream",
     "text": [
      "+---------+----------+---------+------+------+\n",
      "|firstname|middlename|lastname |gender|salary|\n",
      "+---------+----------+---------+------+------+\n",
      "|James    |NULL      |Bond     |M     |6000  |\n",
      "|Michael  |NULL      |NULL     |M     |4000  |\n",
      "|Robert   |NULL      |Pattinson|M     |4000  |\n",
      "|Natalie  |NULL      |Portman  |F     |4000  |\n",
      "|Julia    |NULL      |Roberts  |F     |1000  |\n",
      "+---------+----------+---------+------+------+\n",
      "\n"
     ]
    }
   ],
   "source": [
    "import pyspark.sql.types as T\n",
    "actor_data = [\n",
    "(\"James\", None, \"Bond\", \"M\", 6000),\n",
    "(\"Michael\", None, None, \"M\", 4000),\n",
    "(\"Robert\", None, \"Pattinson\", \"M\", 4000),\n",
    "(\"Natalie\", None, \"Portman\", \"F\", 4000),\n",
    "(\"Julia\", None, \"Roberts\", \"F\", 1000)\n",
    "]\n",
    "actor_schema = T.StructType([\n",
    "T.StructField(\"firstname\", T.StringType(), True),\n",
    "T.StructField(\"middlename\", T.StringType(), True),\n",
    "T.StructField(\"lastname\", T.StringType(), True),\n",
    "T.StructField(\"gender\", T.StringType(), True),\n",
    "T.StructField(\"salary\", T.IntegerType(), True)\n",
    "])\n",
    "df = spark.createDataFrame(data=actor_data, schema=actor_schema)\n",
    "df.show(truncate=False)"
   ]
  }
 ],
 "metadata": {
  "kernelspec": {
   "display_name": "base",
   "language": "python",
   "name": "python3"
  },
  "language_info": {
   "codemirror_mode": {
    "name": "ipython",
    "version": 3
   },
   "file_extension": ".py",
   "mimetype": "text/x-python",
   "name": "python",
   "nbconvert_exporter": "python",
   "pygments_lexer": "ipython3",
   "version": "3.11.5"
  }
 },
 "nbformat": 4,
 "nbformat_minor": 2
}
