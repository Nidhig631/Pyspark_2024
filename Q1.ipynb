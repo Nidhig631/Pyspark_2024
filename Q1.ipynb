{
 "cells": [
  {
   "cell_type": "markdown",
   "metadata": {},
   "source": [
    "# SELECT TOP N ROWS FROM EACH GROUP"
   ]
  },
  {
   "cell_type": "code",
   "execution_count": 1,
   "metadata": {},
   "outputs": [],
   "source": [
    "import pyspark\n",
    "from pyspark.sql import *\n",
    "from pyspark.sql.functions import col,lit\n",
    "from pyspark import SQLContext\n",
    "from pyspark.sql import SparkSession\n",
    "spark = SparkSession.builder.config(\"spark.driver.host\", \"localhost\").appName(\"SparkByExamples.com\").getOrCreate()\n",
    "conf = pyspark.SparkConf()\n",
    "spark_context = SparkSession.builder.config(conf=conf).getOrCreate()"
   ]
  },
  {
   "cell_type": "code",
   "execution_count": 2,
   "metadata": {},
   "outputs": [],
   "source": [
    "sampledata = ((\"Nitya\", \"Sales\", 3000), \\\n",
    "(\"Abhi\", \"Sales\", 4600), \\\n",
    "(\"Rakesh\", \"Sales\", 4100), \\\n",
    "(\"Sandeep\", \"finance\", 3000), \\\n",
    "(\"Abhishek\", \"Sales\", 3000), \\\n",
    "(\"Shyan\", \"finance\", 3300), \\\n",
    "(\"Madan\", \"finance\", 3900), \\\n",
    "(\"Jarin\", \"marketing\", 3000), \\\n",
    "(\"kumar\", \"marketing\", 2000))\n",
    "\n",
    "columns =[\"employee_name\",\"department\",\"Salary\"]\n",
    "df=spark.createDataFrame(data = sampledata, schema=columns)"
   ]
  },
  {
   "cell_type": "code",
   "execution_count": 3,
   "metadata": {},
   "outputs": [
    {
     "name": "stdout",
     "output_type": "stream",
     "text": [
      "+-------------+----------+------+\n",
      "|employee_name|department|Salary|\n",
      "+-------------+----------+------+\n",
      "|        Nitya|     Sales|  3000|\n",
      "|         Abhi|     Sales|  4600|\n",
      "|       Rakesh|     Sales|  4100|\n",
      "|      Sandeep|   finance|  3000|\n",
      "|     Abhishek|     Sales|  3000|\n",
      "|        Shyan|   finance|  3300|\n",
      "|        Madan|   finance|  3900|\n",
      "|        Jarin| marketing|  3000|\n",
      "|        kumar| marketing|  2000|\n",
      "+-------------+----------+------+\n",
      "\n"
     ]
    }
   ],
   "source": [
    "df.show()"
   ]
  },
  {
   "cell_type": "code",
   "execution_count": 35,
   "metadata": {},
   "outputs": [
    {
     "name": "stdout",
     "output_type": "stream",
     "text": [
      "root\n",
      " |-- employee_name: string (nullable = true)\n",
      " |-- department: string (nullable = true)\n",
      " |-- Salary: long (nullable = true)\n",
      " |-- row_num: integer (nullable = false)\n",
      "\n"
     ]
    }
   ],
   "source": [
    "from pyspark.sql import Window\n",
    "from pyspark.sql.functions import *\n",
    "windowpartition = Window.partitionBy(\"department\").orderBy(\"Salary\")\n",
    "df1=df.withColumn(\"row_num\",row_number().over(windowpartition))\n",
    "df1.printSchema()\n"
   ]
  },
  {
   "cell_type": "code",
   "execution_count": 38,
   "metadata": {},
   "outputs": [
    {
     "name": "stdout",
     "output_type": "stream",
     "text": [
      "+-------------+----------+------+-------+\n",
      "|employee_name|department|Salary|row_num|\n",
      "+-------------+----------+------+-------+\n",
      "|        Nitya|     Sales|  3000|      1|\n",
      "|     Abhishek|     Sales|  3000|      2|\n",
      "|      Sandeep|   finance|  3000|      1|\n",
      "|        Shyan|   finance|  3300|      2|\n",
      "|        kumar| marketing|  2000|      1|\n",
      "|        Jarin| marketing|  3000|      2|\n",
      "+-------------+----------+------+-------+\n",
      "\n"
     ]
    }
   ],
   "source": [
    "df1.filter(df1.row_num<=2).show()\n"
   ]
  }
 ],
 "metadata": {
  "kernelspec": {
   "display_name": "base",
   "language": "python",
   "name": "python3"
  },
  "language_info": {
   "codemirror_mode": {
    "name": "ipython",
    "version": 3
   },
   "file_extension": ".py",
   "mimetype": "text/x-python",
   "name": "python",
   "nbconvert_exporter": "python",
   "pygments_lexer": "ipython3",
   "version": "3.11.5"
  }
 },
 "nbformat": 4,
 "nbformat_minor": 2
}
