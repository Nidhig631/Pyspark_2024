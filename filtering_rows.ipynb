{
 "cells": [
  {
   "cell_type": "code",
   "execution_count": 1,
   "metadata": {},
   "outputs": [],
   "source": [
    "import pyspark\n",
    "from pyspark.sql import *\n",
    "from pyspark.sql.functions import col,lit,explode,flatten,concat_ws\n",
    "from pyspark import SQLContext\n",
    "from pyspark.sql import SparkSession\n",
    "spark = SparkSession.builder.config(\"spark.driver.host\", \"localhost\").appName(\"SparkByExamples.com\").getOrCreate()\n",
    "conf = pyspark.SparkConf()\n",
    "spark_context = SparkSession.builder.config(conf=conf).getOrCreate()\n"
   ]
  },
  {
   "cell_type": "code",
   "execution_count": 2,
   "metadata": {},
   "outputs": [],
   "source": [
    "data = [[\"1\", \"sravan\", \"company 1\"],\n",
    "[\"2\", \"ojaswi\", \"company 1\"],\n",
    "[\"3\", \"rohith\", \"company 2\"],\n",
    "[\"4\", \"sridevi\", \"company 1\"],\n",
    "[\"1\", \"sravan\", \"company 1\"],\n",
    "[\"4\", \"sridevi\", \"company 1\"]]\n",
    "columns = ['ID', 'NAME', 'Company']\n",
    "dataframe = spark.createDataFrame(data, columns)"
   ]
  },
  {
   "cell_type": "code",
   "execution_count": 3,
   "metadata": {},
   "outputs": [
    {
     "name": "stdout",
     "output_type": "stream",
     "text": [
      "+---+-------+---------+\n",
      "| ID|   NAME|  Company|\n",
      "+---+-------+---------+\n",
      "|  1| sravan|company 1|\n",
      "|  2| ojaswi|company 1|\n",
      "|  3| rohith|company 2|\n",
      "|  4|sridevi|company 1|\n",
      "|  1| sravan|company 1|\n",
      "|  4|sridevi|company 1|\n",
      "+---+-------+---------+\n",
      "\n"
     ]
    }
   ],
   "source": [
    "dataframe.show()"
   ]
  },
  {
   "cell_type": "markdown",
   "metadata": {},
   "source": [
    "# filter rows in dataframe where ID =1"
   ]
  },
  {
   "cell_type": "code",
   "execution_count": 4,
   "metadata": {},
   "outputs": [
    {
     "name": "stdout",
     "output_type": "stream",
     "text": [
      "+---+------+---------+\n",
      "| ID|  NAME|  Company|\n",
      "+---+------+---------+\n",
      "|  1|sravan|company 1|\n",
      "|  1|sravan|company 1|\n",
      "+---+------+---------+\n",
      "\n"
     ]
    }
   ],
   "source": [
    "dataframe.where(col(\"ID\")=='1').show()"
   ]
  },
  {
   "cell_type": "code",
   "execution_count": 5,
   "metadata": {},
   "outputs": [
    {
     "name": "stdout",
     "output_type": "stream",
     "text": [
      "+---+-------+---------+\n",
      "| ID|   NAME|  Company|\n",
      "+---+-------+---------+\n",
      "|  4|sridevi|company 1|\n",
      "|  4|sridevi|company 1|\n",
      "+---+-------+---------+\n",
      "\n"
     ]
    }
   ],
   "source": [
    "dataframe.filter(dataframe.ID>'3').show()"
   ]
  }
 ],
 "metadata": {
  "kernelspec": {
   "display_name": "base",
   "language": "python",
   "name": "python3"
  },
  "language_info": {
   "codemirror_mode": {
    "name": "ipython",
    "version": 3
   },
   "file_extension": ".py",
   "mimetype": "text/x-python",
   "name": "python",
   "nbconvert_exporter": "python",
   "pygments_lexer": "ipython3",
   "version": "3.11.5"
  }
 },
 "nbformat": 4,
 "nbformat_minor": 2
}
