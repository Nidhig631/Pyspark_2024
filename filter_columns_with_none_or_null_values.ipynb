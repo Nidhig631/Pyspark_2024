{
 "cells": [
  {
   "cell_type": "markdown",
   "metadata": {},
   "source": [
    "## Filter Columns with None or Null Values\n"
   ]
  },
  {
   "cell_type": "markdown",
   "metadata": {},
   "source": [
    "### the dataframes contains many NULL/None values in columns, in many of the cases before\n",
    "performing any of the operations of the dataframe firstly we have to handle the NULL/None\n",
    "values in order to get the desired result or output, we have to filter those NULL values from\n",
    "the dataframe.\n",
    "df.filter(condition) : This function returns the new dataframe with the values which\n",
    "satisfies the given condition.\n",
    "df.column_name.isNotNull() : This function is used to filter the rows that are not NULL/None\n",
    "in the dataframe column.\n"
   ]
  },
  {
   "cell_type": "code",
   "execution_count": 1,
   "metadata": {},
   "outputs": [],
   "source": [
    "import pyspark\n",
    "from pyspark.sql import *\n",
    "from pyspark.sql.functions import col,lit\n",
    "from pyspark import SQLContext\n",
    "from pyspark.sql import SparkSession\n",
    "spark = SparkSession.builder.config(\"spark.driver.host\", \"localhost\").appName(\"SparkByExamples.com\").getOrCreate()\n",
    "conf = pyspark.SparkConf()\n",
    "spark_context = SparkSession.builder.config(conf=conf).getOrCreate()"
   ]
  },
  {
   "cell_type": "code",
   "execution_count": 15,
   "metadata": {},
   "outputs": [],
   "source": [
    "import pyspark.sql.functions as F\n",
    "import pyspark.sql.types as T\n",
    "from pyspark.sql.types import StructType,StructField,StringType,IntegerType\n"
   ]
  },
  {
   "cell_type": "code",
   "execution_count": 16,
   "metadata": {},
   "outputs": [],
   "source": [
    "data2 = [(\"Pulkit\", 12, \"CS32\", 82, \"Programming\"),\n",
    "(\"Ritika\", 20, \"CS32\", 94, \"Writing\"),\n",
    "(\"Atirikt\", 4, \"BB21\", 78, None),\n",
    "(\"Reshav\", 18, None, 56, None)\n",
    "]\n",
    "spark = SparkSession.builder.appName(\"Student_Info\").getOrCreate()\n",
    "schema = StructType([\n",
    "StructField(\"Name\", StringType(), True),\n",
    "StructField(\"Roll Number\", IntegerType(), True),\n",
    "StructField(\"Class ID\", StringType(), True),\n",
    "StructField(\"Marks\", IntegerType(), True),\n",
    "StructField(\"Extracurricular\", StringType(), True)\n",
    "])\n",
    "df = spark.createDataFrame(data=data2, schema=schema)"
   ]
  },
  {
   "cell_type": "code",
   "execution_count": 17,
   "metadata": {},
   "outputs": [
    {
     "name": "stdout",
     "output_type": "stream",
     "text": [
      "+------+-----------+--------+-----+---------------+\n",
      "|Name  |Roll Number|Class ID|Marks|Extracurricular|\n",
      "+------+-----------+--------+-----+---------------+\n",
      "|Pulkit|12         |CS32    |82   |Programming    |\n",
      "|Ritika|20         |CS32    |94   |Writing        |\n",
      "+------+-----------+--------+-----+---------------+\n",
      "\n"
     ]
    }
   ],
   "source": [
    "df.na.drop(how=\"any\").show(truncate=False)"
   ]
  },
  {
   "cell_type": "code",
   "execution_count": 18,
   "metadata": {},
   "outputs": [
    {
     "name": "stdout",
     "output_type": "stream",
     "text": [
      "+---------+----------+---------+------+------+\n",
      "|firstname|middlename|lastname |gender|salary|\n",
      "+---------+----------+---------+------+------+\n",
      "|James    |NULL      |Bond     |M     |6000  |\n",
      "|Michael  |NULL      |NULL     |M     |4000  |\n",
      "|Robert   |NULL      |Pattinson|M     |4000  |\n",
      "|Natalie  |NULL      |Portman  |F     |4000  |\n",
      "|Julia    |NULL      |Roberts  |F     |1000  |\n",
      "+---------+----------+---------+------+------+\n",
      "\n"
     ]
    }
   ],
   "source": [
    "actor_data = [\n",
    "(\"James\", None, \"Bond\", \"M\", 6000),\n",
    "(\"Michael\", None, None, \"M\", 4000),\n",
    "(\"Robert\", None, \"Pattinson\", \"M\", 4000),\n",
    "(\"Natalie\", None, \"Portman\", \"F\", 4000),\n",
    "(\"Julia\", None, \"Roberts\", \"F\", 1000)\n",
    "]\n",
    "actor_schema = T.StructType([\n",
    "T.StructField(\"firstname\", T.StringType(), True),\n",
    "T.StructField(\"middlename\", T.StringType(), True),\n",
    "T.StructField(\"lastname\", T.StringType(), True),\n",
    "T.StructField(\"gender\", T.StringType(), True),\n",
    "T.StructField(\"salary\", T.IntegerType(), True)\n",
    "])\n",
    "df = spark.createDataFrame(data=actor_data, schema=actor_schema)\n",
    "df.show(truncate=False)"
   ]
  },
  {
   "cell_type": "code",
   "execution_count": 19,
   "metadata": {},
   "outputs": [
    {
     "name": "stdout",
     "output_type": "stream",
     "text": [
      "{'firstname': 0, 'middlename': 5, 'lastname': 1, 'gender': 0, 'salary': 0}\n"
     ]
    }
   ],
   "source": [
    "import pyspark.sql.functions as F\n",
    "null_counts = df.select([F.count(F.when(F.col(c).isNull(), c)).alias(\n",
    "c) for c in df.columns]).collect()[0].asDict()\n",
    "print(null_counts)"
   ]
  },
  {
   "cell_type": "code",
   "execution_count": 20,
   "metadata": {},
   "outputs": [],
   "source": [
    "df_size = df.count()"
   ]
  },
  {
   "cell_type": "code",
   "execution_count": 21,
   "metadata": {},
   "outputs": [
    {
     "name": "stdout",
     "output_type": "stream",
     "text": [
      "['middlename']\n"
     ]
    }
   ],
   "source": [
    "to_drop = [k for k, v in null_counts.items() if v == df_size]\n",
    "print(to_drop)"
   ]
  },
  {
   "cell_type": "code",
   "execution_count": 22,
   "metadata": {},
   "outputs": [
    {
     "name": "stdout",
     "output_type": "stream",
     "text": [
      "+---------+---------+------+------+\n",
      "|firstname|lastname |gender|salary|\n",
      "+---------+---------+------+------+\n",
      "|James    |Bond     |M     |6000  |\n",
      "|Michael  |NULL     |M     |4000  |\n",
      "|Robert   |Pattinson|M     |4000  |\n",
      "|Natalie  |Portman  |F     |4000  |\n",
      "|Julia    |Roberts  |F     |1000  |\n",
      "+---------+---------+------+------+\n",
      "\n"
     ]
    }
   ],
   "source": [
    "output_df = df.drop(*to_drop)\n",
    "output_df.show(truncate=False)"
   ]
  }
 ],
 "metadata": {
  "kernelspec": {
   "display_name": "base",
   "language": "python",
   "name": "python3"
  },
  "language_info": {
   "codemirror_mode": {
    "name": "ipython",
    "version": 3
   },
   "file_extension": ".py",
   "mimetype": "text/x-python",
   "name": "python",
   "nbconvert_exporter": "python",
   "pygments_lexer": "ipython3",
   "version": "3.11.5"
  }
 },
 "nbformat": 4,
 "nbformat_minor": 2
}
